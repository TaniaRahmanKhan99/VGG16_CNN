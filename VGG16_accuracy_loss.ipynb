{
  "cells": [
    {
      "attachments": {},
      "cell_type": "markdown",
      "metadata": {
        "id": "5KyLTeW35eNE"
      },
      "source": [
        "##Installation\n"
      ]
    },
    {
      "cell_type": "code",
      "execution_count": null,
      "metadata": {
        "colab": {
          "base_uri": "https://localhost:8080/"
        },
        "id": "i-JRyJHy5k-q",
        "outputId": "a7c77184-e7ee-4740-f252-401070883230"
      },
      "outputs": [
        {
          "name": "stdout",
          "output_type": "stream",
          "text": [
            "Looking in indexes: https://pypi.org/simple, https://us-python.pkg.dev/colab-wheels/public/simple/\n",
            "Requirement already satisfied: keras in /usr/local/lib/python3.10/dist-packages (2.12.0)\n",
            "Looking in indexes: https://pypi.org/simple, https://us-python.pkg.dev/colab-wheels/public/simple/\n",
            "Requirement already satisfied: tensorflow in /usr/local/lib/python3.10/dist-packages (2.12.0)\n",
            "Requirement already satisfied: absl-py>=1.0.0 in /usr/local/lib/python3.10/dist-packages (from tensorflow) (1.4.0)\n",
            "Requirement already satisfied: astunparse>=1.6.0 in /usr/local/lib/python3.10/dist-packages (from tensorflow) (1.6.3)\n",
            "Requirement already satisfied: flatbuffers>=2.0 in /usr/local/lib/python3.10/dist-packages (from tensorflow) (23.3.3)\n",
            "Requirement already satisfied: gast<=0.4.0,>=0.2.1 in /usr/local/lib/python3.10/dist-packages (from tensorflow) (0.4.0)\n",
            "Requirement already satisfied: google-pasta>=0.1.1 in /usr/local/lib/python3.10/dist-packages (from tensorflow) (0.2.0)\n",
            "Requirement already satisfied: grpcio<2.0,>=1.24.3 in /usr/local/lib/python3.10/dist-packages (from tensorflow) (1.54.0)\n",
            "Requirement already satisfied: h5py>=2.9.0 in /usr/local/lib/python3.10/dist-packages (from tensorflow) (3.8.0)\n",
            "Requirement already satisfied: jax>=0.3.15 in /usr/local/lib/python3.10/dist-packages (from tensorflow) (0.4.10)\n",
            "Requirement already satisfied: keras<2.13,>=2.12.0 in /usr/local/lib/python3.10/dist-packages (from tensorflow) (2.12.0)\n",
            "Requirement already satisfied: libclang>=13.0.0 in /usr/local/lib/python3.10/dist-packages (from tensorflow) (16.0.0)\n",
            "Requirement already satisfied: numpy<1.24,>=1.22 in /usr/local/lib/python3.10/dist-packages (from tensorflow) (1.22.4)\n",
            "Requirement already satisfied: opt-einsum>=2.3.2 in /usr/local/lib/python3.10/dist-packages (from tensorflow) (3.3.0)\n",
            "Requirement already satisfied: packaging in /usr/local/lib/python3.10/dist-packages (from tensorflow) (23.1)\n",
            "Requirement already satisfied: protobuf!=4.21.0,!=4.21.1,!=4.21.2,!=4.21.3,!=4.21.4,!=4.21.5,<5.0.0dev,>=3.20.3 in /usr/local/lib/python3.10/dist-packages (from tensorflow) (3.20.3)\n",
            "Requirement already satisfied: setuptools in /usr/local/lib/python3.10/dist-packages (from tensorflow) (67.7.2)\n",
            "Requirement already satisfied: six>=1.12.0 in /usr/local/lib/python3.10/dist-packages (from tensorflow) (1.16.0)\n",
            "Requirement already satisfied: tensorboard<2.13,>=2.12 in /usr/local/lib/python3.10/dist-packages (from tensorflow) (2.12.2)\n",
            "Requirement already satisfied: tensorflow-estimator<2.13,>=2.12.0 in /usr/local/lib/python3.10/dist-packages (from tensorflow) (2.12.0)\n",
            "Requirement already satisfied: termcolor>=1.1.0 in /usr/local/lib/python3.10/dist-packages (from tensorflow) (2.3.0)\n",
            "Requirement already satisfied: typing-extensions>=3.6.6 in /usr/local/lib/python3.10/dist-packages (from tensorflow) (4.5.0)\n",
            "Requirement already satisfied: wrapt<1.15,>=1.11.0 in /usr/local/lib/python3.10/dist-packages (from tensorflow) (1.14.1)\n",
            "Requirement already satisfied: tensorflow-io-gcs-filesystem>=0.23.1 in /usr/local/lib/python3.10/dist-packages (from tensorflow) (0.32.0)\n",
            "Requirement already satisfied: wheel<1.0,>=0.23.0 in /usr/local/lib/python3.10/dist-packages (from astunparse>=1.6.0->tensorflow) (0.40.0)\n",
            "Requirement already satisfied: ml-dtypes>=0.1.0 in /usr/local/lib/python3.10/dist-packages (from jax>=0.3.15->tensorflow) (0.1.0)\n",
            "Requirement already satisfied: scipy>=1.7 in /usr/local/lib/python3.10/dist-packages (from jax>=0.3.15->tensorflow) (1.10.1)\n",
            "Requirement already satisfied: google-auth<3,>=1.6.3 in /usr/local/lib/python3.10/dist-packages (from tensorboard<2.13,>=2.12->tensorflow) (2.17.3)\n",
            "Requirement already satisfied: google-auth-oauthlib<1.1,>=0.5 in /usr/local/lib/python3.10/dist-packages (from tensorboard<2.13,>=2.12->tensorflow) (1.0.0)\n",
            "Requirement already satisfied: markdown>=2.6.8 in /usr/local/lib/python3.10/dist-packages (from tensorboard<2.13,>=2.12->tensorflow) (3.4.3)\n",
            "Requirement already satisfied: requests<3,>=2.21.0 in /usr/local/lib/python3.10/dist-packages (from tensorboard<2.13,>=2.12->tensorflow) (2.27.1)\n",
            "Requirement already satisfied: tensorboard-data-server<0.8.0,>=0.7.0 in /usr/local/lib/python3.10/dist-packages (from tensorboard<2.13,>=2.12->tensorflow) (0.7.0)\n",
            "Requirement already satisfied: tensorboard-plugin-wit>=1.6.0 in /usr/local/lib/python3.10/dist-packages (from tensorboard<2.13,>=2.12->tensorflow) (1.8.1)\n",
            "Requirement already satisfied: werkzeug>=1.0.1 in /usr/local/lib/python3.10/dist-packages (from tensorboard<2.13,>=2.12->tensorflow) (2.3.0)\n",
            "Requirement already satisfied: cachetools<6.0,>=2.0.0 in /usr/local/lib/python3.10/dist-packages (from google-auth<3,>=1.6.3->tensorboard<2.13,>=2.12->tensorflow) (5.3.0)\n",
            "Requirement already satisfied: pyasn1-modules>=0.2.1 in /usr/local/lib/python3.10/dist-packages (from google-auth<3,>=1.6.3->tensorboard<2.13,>=2.12->tensorflow) (0.3.0)\n",
            "Requirement already satisfied: rsa<5,>=3.1.4 in /usr/local/lib/python3.10/dist-packages (from google-auth<3,>=1.6.3->tensorboard<2.13,>=2.12->tensorflow) (4.9)\n",
            "Requirement already satisfied: requests-oauthlib>=0.7.0 in /usr/local/lib/python3.10/dist-packages (from google-auth-oauthlib<1.1,>=0.5->tensorboard<2.13,>=2.12->tensorflow) (1.3.1)\n",
            "Requirement already satisfied: urllib3<1.27,>=1.21.1 in /usr/local/lib/python3.10/dist-packages (from requests<3,>=2.21.0->tensorboard<2.13,>=2.12->tensorflow) (1.26.15)\n",
            "Requirement already satisfied: certifi>=2017.4.17 in /usr/local/lib/python3.10/dist-packages (from requests<3,>=2.21.0->tensorboard<2.13,>=2.12->tensorflow) (2022.12.7)\n",
            "Requirement already satisfied: charset-normalizer~=2.0.0 in /usr/local/lib/python3.10/dist-packages (from requests<3,>=2.21.0->tensorboard<2.13,>=2.12->tensorflow) (2.0.12)\n",
            "Requirement already satisfied: idna<4,>=2.5 in /usr/local/lib/python3.10/dist-packages (from requests<3,>=2.21.0->tensorboard<2.13,>=2.12->tensorflow) (3.4)\n",
            "Requirement already satisfied: MarkupSafe>=2.1.1 in /usr/local/lib/python3.10/dist-packages (from werkzeug>=1.0.1->tensorboard<2.13,>=2.12->tensorflow) (2.1.2)\n",
            "Requirement already satisfied: pyasn1<0.6.0,>=0.4.6 in /usr/local/lib/python3.10/dist-packages (from pyasn1-modules>=0.2.1->google-auth<3,>=1.6.3->tensorboard<2.13,>=2.12->tensorflow) (0.5.0)\n",
            "Requirement already satisfied: oauthlib>=3.0.0 in /usr/local/lib/python3.10/dist-packages (from requests-oauthlib>=0.7.0->google-auth-oauthlib<1.1,>=0.5->tensorboard<2.13,>=2.12->tensorflow) (3.2.2)\n",
            "Looking in indexes: https://pypi.org/simple, https://us-python.pkg.dev/colab-wheels/public/simple/\n",
            "Collecting split-folders\n",
            "  Downloading split_folders-0.5.1-py3-none-any.whl (8.4 kB)\n",
            "Installing collected packages: split-folders\n",
            "Successfully installed split-folders-0.5.1\n"
          ]
        }
      ],
      "source": [
        "!pip install keras\n",
        "!pip install tensorflow\n",
        "!pip install split-folders\n"
      ]
    },
    {
      "attachments": {},
      "cell_type": "markdown",
      "metadata": {
        "id": "-iw8ue5P6FD7"
      },
      "source": [
        "##Import Libraries\n"
      ]
    },
    {
      "cell_type": "code",
      "execution_count": null,
      "metadata": {
        "id": "xFdLSYCE6Mhq"
      },
      "outputs": [],
      "source": [
        "import numpy as np\n",
        "import tensorflow as tf\n",
        "import tensorflow.keras.utils \n",
        "import numpy as np\n",
        "from PIL import Image\n",
        "import os\n",
        "\n",
        "import matplotlib.pyplot as plt\n",
        "import pandas as pd\n",
        "import keras\n",
        "import cv2\n",
        "import os\n",
        "import math\n",
        "import splitfolders\n",
        "import itertools\n",
        "\n",
        "from keras.models import Sequential\n",
        "from keras.models import load_model\n",
        "from keras.layers import Dense, Conv2D, MaxPool2D, Flatten\n",
        "from keras.preprocessing.image import ImageDataGenerator\n",
        "from tensorflow.keras.utils import load_img\n",
        "from tensorflow.keras.utils import img_to_array\n",
        "\n",
        "\n",
        "from keras.callbacks import ModelCheckpoint, EarlyStopping\n",
        "import matplotlib.pyplot as plt\n",
        "import seaborn as sns\n",
        "import keras\n",
        "from keras.models import Sequential\n",
        "from keras.layers import Dense, Conv2D , MaxPool2D , Flatten , Dropout , BatchNormalization\n",
        "#from keras.preprocessing.image import ImageDataGenerator, array_to_img, img_to_array,load_img\n",
        "from keras.preprocessing.image import ImageDataGenerator\n",
        "\n",
        "from tensorflow.keras.utils import img_to_array\n",
        "from sklearn.model_selection import train_test_split\n",
        "from sklearn.metrics import classification_report,confusion_matrix\n",
        "from keras.callbacks import ReduceLROnPlateau\n",
        "#import gradio\n",
        "import random\n",
        "from sklearn.model_selection import train_test_split\n",
        "from sklearn.metrics import accuracy_score,precision_score, recall_score, f1_score\n",
        "from sklearn.metrics import confusion_matrix\n",
        "from sklearn.linear_model import LogisticRegression\n"
      ]
    },
    {
      "attachments": {},
      "cell_type": "markdown",
      "metadata": {
        "id": "C9VtRNxz6X7j"
      },
      "source": [
        "##Upload/Connect Dataset\n"
      ]
    },
    {
      "cell_type": "code",
      "execution_count": null,
      "metadata": {
        "colab": {
          "base_uri": "https://localhost:8080/"
        },
        "id": "iENI99le6exK",
        "outputId": "93474d89-e0ba-4db6-93c1-b608e0cfe3c5"
      },
      "outputs": [
        {
          "name": "stdout",
          "output_type": "stream",
          "text": [
            "Mounted at /content/drive\n"
          ]
        }
      ],
      "source": [
        "from google.colab import drive\n",
        "drive.mount('/content/drive')\n",
        "input_dataset=('/content/drive/MyDrive/3 kinds of Pneumonia(dataset)(new)')"
      ]
    },
    {
      "attachments": {},
      "cell_type": "markdown",
      "metadata": {
        "id": "wIeMkUTl6rgy"
      },
      "source": [
        "#Dataset Analysis"
      ]
    },
    {
      "cell_type": "code",
      "execution_count": null,
      "metadata": {
        "colab": {
          "base_uri": "https://localhost:8080/"
        },
        "id": "yD2mXsTV8aoz",
        "outputId": "fe961f5a-8538-4b0c-ea5e-7210096576c8"
      },
      "outputs": [
        {
          "data": {
            "text/plain": [
              "dict_items([('COVID-19', 2000), ('Normal', 2000), ('Pneumonia-Viral', 2000), ('Pneumonia-Bacterial', 2000)])"
            ]
          },
          "execution_count": 4,
          "metadata": {},
          "output_type": "execute_result"
        }
      ],
      "source": [
        "number_of_images = {}\n",
        "\n",
        "for dir in os.listdir(input_dataset):\n",
        "  number_of_images[dir] = len(os.listdir(os.path.join(input_dataset,dir)))\n",
        "\n",
        "number_of_images.items()\n"
      ]
    },
    {
      "attachments": {},
      "cell_type": "markdown",
      "metadata": {
        "id": "MsaqFSbQI8TT"
      },
      "source": [
        "##Splitting Dataset into Train, Validation and test"
      ]
    },
    {
      "cell_type": "code",
      "execution_count": null,
      "metadata": {
        "colab": {
          "base_uri": "https://localhost:8080/"
        },
        "id": "AhBy4usiI7FE",
        "outputId": "4ec678b6-4f36-4d93-c772-93ffa7a4f69c"
      },
      "outputs": [
        {
          "name": "stderr",
          "output_type": "stream",
          "text": [
            "Copying files: 8000 files [02:13, 59.81 files/s] \n"
          ]
        }
      ],
      "source": [
        "from splitfolders.split import group_by_prefix\n",
        "splitfolders.ratio(input_dataset,output=\"dataset\",seed=1337, ratio=(.7, .2, .1), group_prefix=None, move=False)"
      ]
    },
    {
      "attachments": {},
      "cell_type": "markdown",
      "metadata": {
        "id": "wNNNlXFP0mIV"
      },
      "source": [
        "#5.VGG16 MODEL\n"
      ]
    },
    {
      "attachments": {},
      "cell_type": "markdown",
      "metadata": {
        "id": "xrFQgMaz09tZ"
      },
      "source": [
        "##Data Pre-processing of VGG16 Model"
      ]
    },
    {
      "cell_type": "code",
      "execution_count": null,
      "metadata": {
        "id": "Z9XCWBgV00GS"
      },
      "outputs": [],
      "source": [
        "from keras.utils.image_dataset import image_dataset_from_directory\n",
        "from keras.applications.vgg16 import preprocess_input as p5\n",
        "def preprocessing_train5(path):\n",
        "  image_data=ImageDataGenerator(preprocessing_function=p5,zoom_range=0.2,shear_range=0.2,horizontal_flip=True,vertical_flip=False)#data augmentation\n",
        "  image=image_data.flow_from_directory(directory=path,target_size=(224,224),batch_size=32,class_mode=\"categorical\")\n",
        "  \n",
        "  return image"
      ]
    },
    {
      "cell_type": "code",
      "execution_count": null,
      "metadata": {
        "colab": {
          "base_uri": "https://localhost:8080/"
        },
        "id": "1OBWbprY1YfK",
        "outputId": "447a200f-b25f-4b90-a1aa-6c707f014e5f"
      },
      "outputs": [
        {
          "name": "stdout",
          "output_type": "stream",
          "text": [
            "Found 5600 images belonging to 4 classes.\n"
          ]
        }
      ],
      "source": [
        "path_tr5='/content/dataset/train'\n",
        "train_data=preprocessing_train5(path_tr5)#pre-processing training dataset"
      ]
    },
    {
      "cell_type": "code",
      "execution_count": null,
      "metadata": {
        "id": "qUjG6z9B2EtR"
      },
      "outputs": [],
      "source": [
        "def preprocessing5(path):\n",
        "  image_data=ImageDataGenerator(preprocessing_function=p5)#data augmentation\n",
        "  image=image_data.flow_from_directory(directory=path,target_size=(224,224),batch_size=32,class_mode=\"categorical\")\n",
        "  \n",
        "  return image"
      ]
    },
    {
      "cell_type": "code",
      "execution_count": null,
      "metadata": {
        "colab": {
          "base_uri": "https://localhost:8080/"
        },
        "id": "53rKy5Er2ScQ",
        "outputId": "c134e18d-2dca-4386-bef4-f3f50104f1f2"
      },
      "outputs": [
        {
          "name": "stdout",
          "output_type": "stream",
          "text": [
            "Found 1600 images belonging to 4 classes.\n"
          ]
        }
      ],
      "source": [
        "path_v5='/content/dataset/val'\n",
        "val_data=preprocessing5(path_v5)#pre-processing validation dataset"
      ]
    },
    {
      "cell_type": "code",
      "execution_count": null,
      "metadata": {
        "colab": {
          "base_uri": "https://localhost:8080/"
        },
        "id": "Jt3zzJ2Q2a04",
        "outputId": "ea0bec9f-391d-4477-8409-28bad376af66"
      },
      "outputs": [
        {
          "name": "stdout",
          "output_type": "stream",
          "text": [
            "Found 800 images belonging to 4 classes.\n"
          ]
        }
      ],
      "source": [
        "path_test5='/content/dataset/test'\n",
        "test_data=preprocessing5(path_test5)#pre-processing validation dataset"
      ]
    },
    {
      "cell_type": "code",
      "execution_count": null,
      "metadata": {
        "colab": {
          "base_uri": "https://localhost:8080/"
        },
        "id": "ooOhQqyDuh-a",
        "outputId": "f4630231-f8b6-4f13-f8d2-06c5c0ecf4e2"
      },
      "outputs": [
        {
          "name": "stdout",
          "output_type": "stream",
          "text": [
            "x_test shape: (800, 224, 224, 3)\n",
            "y_test shape: (800, 4)\n"
          ]
        }
      ],
      "source": [
        "x_test, y_test = [], []\n",
        "for i in range(len(test_data)):\n",
        "    batch_x, batch_y = test_data[i]\n",
        "    x_test.append(batch_x)\n",
        "    y_test.append(batch_y)\n",
        "\n",
        "# Concatenate the batches to obtain the final x_train and y_train arrays\n",
        "x_test = tf.concat(x_test, axis=0)\n",
        "y_test = tf.concat(y_test, axis=0)\n",
        "\n",
        "# Print the shape of the x_train and y_train arrays\n",
        "print('x_test shape:', x_test.shape)\n",
        "print('y_test shape:', y_test.shape)"
      ]
    },
    {
      "attachments": {},
      "cell_type": "markdown",
      "metadata": {
        "id": "JFEmlBdB29w6"
      },
      "source": [
        "##VGG16 Model Training"
      ]
    },
    {
      "cell_type": "code",
      "execution_count": null,
      "metadata": {
        "id": "sNv9Ha7N3HSA"
      },
      "outputs": [],
      "source": [
        "import numpy as np\n",
        "import matplotlib.pyplot as plt\n",
        "from keras.layers import Input,Flatten, Dense\n",
        "from keras.models import Model,load_model,Sequential\n",
        "from keras.applications.vgg16 import VGG16"
      ]
    },
    {
      "cell_type": "code",
      "execution_count": null,
      "metadata": {
        "colab": {
          "base_uri": "https://localhost:8080/"
        },
        "id": "sVXL9W493UDP",
        "outputId": "cea3cf31-37bd-42a6-c7aa-976a3c357b8f"
      },
      "outputs": [
        {
          "data": {
            "text/plain": [
              "<KerasTensor: shape=(None, 7, 7, 512) dtype=float32 (created by layer 'block5_pool')>"
            ]
          },
          "execution_count": 23,
          "metadata": {},
          "output_type": "execute_result"
        }
      ],
      "source": [
        "vgg=VGG16(input_shape=(224,224,3),weights='imagenet', include_top=False)\n",
        "vgg.output"
      ]
    },
    {
      "cell_type": "code",
      "execution_count": null,
      "metadata": {
        "id": "4Tdu8juO3a3Q"
      },
      "outputs": [],
      "source": [
        "for layer in vgg.layers:\n",
        "  layer.trainable=False"
      ]
    },
    {
      "cell_type": "code",
      "execution_count": null,
      "metadata": {
        "colab": {
          "base_uri": "https://localhost:8080/"
        },
        "id": "xQXBVGrr4ZF0",
        "outputId": "06be7521-3a35-4462-b3c1-14415f3d91d0"
      },
      "outputs": [
        {
          "name": "stdout",
          "output_type": "stream",
          "text": [
            "Model: \"model_1\"\n",
            "_________________________________________________________________\n",
            " Layer (type)                Output Shape              Param #   \n",
            "=================================================================\n",
            " input_2 (InputLayer)        [(None, 224, 224, 3)]     0         \n",
            "                                                                 \n",
            " block1_conv1 (Conv2D)       (None, 224, 224, 64)      1792      \n",
            "                                                                 \n",
            " block1_conv2 (Conv2D)       (None, 224, 224, 64)      36928     \n",
            "                                                                 \n",
            " block1_pool (MaxPooling2D)  (None, 112, 112, 64)      0         \n",
            "                                                                 \n",
            " block2_conv1 (Conv2D)       (None, 112, 112, 128)     73856     \n",
            "                                                                 \n",
            " block2_conv2 (Conv2D)       (None, 112, 112, 128)     147584    \n",
            "                                                                 \n",
            " block2_pool (MaxPooling2D)  (None, 56, 56, 128)       0         \n",
            "                                                                 \n",
            " block3_conv1 (Conv2D)       (None, 56, 56, 256)       295168    \n",
            "                                                                 \n",
            " block3_conv2 (Conv2D)       (None, 56, 56, 256)       590080    \n",
            "                                                                 \n",
            " block3_conv3 (Conv2D)       (None, 56, 56, 256)       590080    \n",
            "                                                                 \n",
            " block3_pool (MaxPooling2D)  (None, 28, 28, 256)       0         \n",
            "                                                                 \n",
            " block4_conv1 (Conv2D)       (None, 28, 28, 512)       1180160   \n",
            "                                                                 \n",
            " block4_conv2 (Conv2D)       (None, 28, 28, 512)       2359808   \n",
            "                                                                 \n",
            " block4_conv3 (Conv2D)       (None, 28, 28, 512)       2359808   \n",
            "                                                                 \n",
            " block4_pool (MaxPooling2D)  (None, 14, 14, 512)       0         \n",
            "                                                                 \n",
            " block5_conv1 (Conv2D)       (None, 14, 14, 512)       2359808   \n",
            "                                                                 \n",
            " block5_conv2 (Conv2D)       (None, 14, 14, 512)       2359808   \n",
            "                                                                 \n",
            " block5_conv3 (Conv2D)       (None, 14, 14, 512)       2359808   \n",
            "                                                                 \n",
            " block5_pool (MaxPooling2D)  (None, 7, 7, 512)         0         \n",
            "                                                                 \n",
            " flatten_1 (Flatten)         (None, 25088)             0         \n",
            "                                                                 \n",
            " dense_3 (Dense)             (None, 512)               12845568  \n",
            "                                                                 \n",
            " dense_4 (Dense)             (None, 256)               131328    \n",
            "                                                                 \n",
            " dense_5 (Dense)             (None, 4)                 1028      \n",
            "                                                                 \n",
            "=================================================================\n",
            "Total params: 27,692,612\n",
            "Trainable params: 12,977,924\n",
            "Non-trainable params: 14,714,688\n",
            "_________________________________________________________________\n"
          ]
        }
      ],
      "source": [
        "x=Flatten()(vgg.output)\n",
        "x = Dense(units=512, activation='relu')(x)\n",
        "x = Dense(units=256, activation='relu')(x)\n",
        "x = Dense(units=4, activation='softmax')(x)\n",
        "\n",
        "# prevent the weights from being updated during training\n",
        "#vgg.trainable = False\n",
        "\n",
        "vgg_model=Model(vgg.input,x)\n",
        "vgg_model.summary()"
      ]
    },
    {
      "cell_type": "code",
      "execution_count": null,
      "metadata": {
        "id": "qU199PJu48yE"
      },
      "outputs": [],
      "source": [
        "vgg_model.compile(optimizer = \"adam\" , \n",
        "            loss = 'categorical_crossentropy' , \n",
        "            metrics = ['accuracy'])\n"
      ]
    },
    {
      "attachments": {},
      "cell_type": "markdown",
      "metadata": {
        "id": "vDyGkwMo5It6"
      },
      "source": [
        "##VGG16 Model Early Stop and Model Check Point"
      ]
    },
    {
      "cell_type": "code",
      "execution_count": null,
      "metadata": {
        "id": "8FoE5LzL5ZMw"
      },
      "outputs": [],
      "source": [
        "es5=EarlyStopping(monitor=\"val_accuracy\",verbose=1, patience=10, mode=\"max\")\n",
        "\n",
        "#Model check point\n",
        "mc5= ModelCheckpoint(monitor=\"val_accuracy\", filepath=\"./Best_model5.h5\", verbose=1, save_best_only=True, mode=\"max\")\n",
        "reduce_lr5 = ReduceLROnPlateau(monitor='val_loss', factor=0.2, min_lr=0.000000001)\n",
        "\n",
        "cb5=[es5,mc5,reduce_lr5]\n"
      ]
    },
    {
      "cell_type": "code",
      "execution_count": null,
      "metadata": {
        "colab": {
          "base_uri": "https://localhost:8080/"
        },
        "id": "hhxBwyi8u78D",
        "outputId": "070d484a-044b-4c6e-ad20-1b2f583f84ee"
      },
      "outputs": [
        {
          "name": "stdout",
          "output_type": "stream",
          "text": [
            "Epoch 1/100\n",
            "175/175 [==============================] - ETA: 0s - loss: 5.2629 - accuracy: 0.7457\n",
            "Epoch 1: val_accuracy improved from -inf to 0.80313, saving model to ./Best_model5.h5\n",
            "175/175 [==============================] - 42s 203ms/step - loss: 5.2629 - accuracy: 0.7457 - val_loss: 1.0788 - val_accuracy: 0.8031 - lr: 0.0010\n",
            "Epoch 2/100\n",
            "175/175 [==============================] - ETA: 0s - loss: 0.4438 - accuracy: 0.8716\n",
            "Epoch 2: val_accuracy improved from 0.80313 to 0.81750, saving model to ./Best_model5.h5\n",
            "175/175 [==============================] - 34s 197ms/step - loss: 0.4438 - accuracy: 0.8716 - val_loss: 0.7972 - val_accuracy: 0.8175 - lr: 0.0010\n",
            "Epoch 3/100\n",
            "175/175 [==============================] - ETA: 0s - loss: 0.2389 - accuracy: 0.9180\n",
            "Epoch 3: val_accuracy improved from 0.81750 to 0.83688, saving model to ./Best_model5.h5\n",
            "175/175 [==============================] - 34s 197ms/step - loss: 0.2389 - accuracy: 0.9180 - val_loss: 0.6478 - val_accuracy: 0.8369 - lr: 0.0010\n",
            "Epoch 4/100\n",
            "175/175 [==============================] - ETA: 0s - loss: 0.1096 - accuracy: 0.9595\n",
            "Epoch 4: val_accuracy improved from 0.83688 to 0.86063, saving model to ./Best_model5.h5\n",
            "175/175 [==============================] - 36s 206ms/step - loss: 0.1096 - accuracy: 0.9595 - val_loss: 0.6119 - val_accuracy: 0.8606 - lr: 0.0010\n",
            "Epoch 5/100\n",
            "175/175 [==============================] - ETA: 0s - loss: 0.0675 - accuracy: 0.9768\n",
            "Epoch 5: val_accuracy did not improve from 0.86063\n",
            "175/175 [==============================] - 30s 173ms/step - loss: 0.0675 - accuracy: 0.9768 - val_loss: 0.9406 - val_accuracy: 0.8281 - lr: 0.0010\n",
            "Epoch 6/100\n",
            "175/175 [==============================] - ETA: 0s - loss: 0.0799 - accuracy: 0.9752\n",
            "Epoch 6: val_accuracy did not improve from 0.86063\n",
            "175/175 [==============================] - 34s 195ms/step - loss: 0.0799 - accuracy: 0.9752 - val_loss: 1.1113 - val_accuracy: 0.8481 - lr: 0.0010\n",
            "Epoch 7/100\n",
            "175/175 [==============================] - ETA: 0s - loss: 0.2109 - accuracy: 0.9452\n",
            "Epoch 7: val_accuracy did not improve from 0.86063\n",
            "175/175 [==============================] - 34s 194ms/step - loss: 0.2109 - accuracy: 0.9452 - val_loss: 1.6017 - val_accuracy: 0.8037 - lr: 0.0010\n",
            "Epoch 8/100\n",
            "175/175 [==============================] - ETA: 0s - loss: 0.2249 - accuracy: 0.9423\n",
            "Epoch 8: val_accuracy did not improve from 0.86063\n",
            "175/175 [==============================] - 34s 195ms/step - loss: 0.2249 - accuracy: 0.9423 - val_loss: 1.1425 - val_accuracy: 0.8313 - lr: 0.0010\n",
            "Epoch 9/100\n",
            "175/175 [==============================] - ETA: 0s - loss: 0.0980 - accuracy: 0.9723\n",
            "Epoch 9: val_accuracy did not improve from 0.86063\n",
            "175/175 [==============================] - 30s 173ms/step - loss: 0.0980 - accuracy: 0.9723 - val_loss: 1.3193 - val_accuracy: 0.8231 - lr: 0.0010\n",
            "Epoch 10/100\n",
            "175/175 [==============================] - ETA: 0s - loss: 0.0553 - accuracy: 0.9830\n",
            "Epoch 10: val_accuracy did not improve from 0.86063\n",
            "175/175 [==============================] - 34s 195ms/step - loss: 0.0553 - accuracy: 0.9830 - val_loss: 1.5192 - val_accuracy: 0.8206 - lr: 0.0010\n",
            "Epoch 11/100\n",
            "175/175 [==============================] - ETA: 0s - loss: 0.0297 - accuracy: 0.9907\n",
            "Epoch 11: val_accuracy did not improve from 0.86063\n",
            "175/175 [==============================] - 30s 173ms/step - loss: 0.0297 - accuracy: 0.9907 - val_loss: 1.2690 - val_accuracy: 0.8375 - lr: 0.0010\n",
            "Epoch 12/100\n",
            "175/175 [==============================] - ETA: 0s - loss: 0.0411 - accuracy: 0.9859\n",
            "Epoch 12: val_accuracy did not improve from 0.86063\n",
            "175/175 [==============================] - 30s 174ms/step - loss: 0.0411 - accuracy: 0.9859 - val_loss: 1.4168 - val_accuracy: 0.8306 - lr: 0.0010\n",
            "Epoch 13/100\n",
            "175/175 [==============================] - ETA: 0s - loss: 0.0422 - accuracy: 0.9866\n",
            "Epoch 13: val_accuracy did not improve from 0.86063\n",
            "175/175 [==============================] - 34s 194ms/step - loss: 0.0422 - accuracy: 0.9866 - val_loss: 2.0564 - val_accuracy: 0.8037 - lr: 0.0010\n",
            "Epoch 14/100\n",
            "175/175 [==============================] - ETA: 0s - loss: 0.1372 - accuracy: 0.9695\n",
            "Epoch 14: val_accuracy did not improve from 0.86063\n",
            "175/175 [==============================] - 30s 173ms/step - loss: 0.1372 - accuracy: 0.9695 - val_loss: 1.4981 - val_accuracy: 0.8475 - lr: 0.0010\n",
            "Epoch 15/100\n",
            "175/175 [==============================] - ETA: 0s - loss: 0.0237 - accuracy: 0.9932\n",
            "Epoch 15: val_accuracy did not improve from 0.86063\n",
            "175/175 [==============================] - 30s 174ms/step - loss: 0.0237 - accuracy: 0.9932 - val_loss: 1.3825 - val_accuracy: 0.8487 - lr: 2.0000e-04\n",
            "Epoch 16/100\n",
            "175/175 [==============================] - ETA: 0s - loss: 0.0019 - accuracy: 0.9998\n",
            "Epoch 16: val_accuracy did not improve from 0.86063\n",
            "175/175 [==============================] - 30s 172ms/step - loss: 0.0019 - accuracy: 0.9998 - val_loss: 1.3494 - val_accuracy: 0.8512 - lr: 2.0000e-04\n",
            "Epoch 17/100\n",
            "175/175 [==============================] - ETA: 0s - loss: 8.1463e-04 - accuracy: 1.0000\n",
            "Epoch 17: val_accuracy did not improve from 0.86063\n",
            "175/175 [==============================] - 34s 195ms/step - loss: 8.1463e-04 - accuracy: 1.0000 - val_loss: 1.3690 - val_accuracy: 0.8519 - lr: 2.0000e-04\n",
            "Epoch 18/100\n",
            "175/175 [==============================] - ETA: 0s - loss: 6.1963e-04 - accuracy: 1.0000\n",
            "Epoch 18: val_accuracy did not improve from 0.86063\n",
            "175/175 [==============================] - 30s 174ms/step - loss: 6.1963e-04 - accuracy: 1.0000 - val_loss: 1.3846 - val_accuracy: 0.8512 - lr: 2.0000e-04\n",
            "Epoch 19/100\n",
            "175/175 [==============================] - ETA: 0s - loss: 5.1890e-04 - accuracy: 1.0000\n",
            "Epoch 19: val_accuracy did not improve from 0.86063\n",
            "175/175 [==============================] - 30s 174ms/step - loss: 5.1890e-04 - accuracy: 1.0000 - val_loss: 1.3991 - val_accuracy: 0.8506 - lr: 2.0000e-04\n",
            "Epoch 20/100\n",
            "175/175 [==============================] - ETA: 0s - loss: 4.4759e-04 - accuracy: 1.0000\n",
            "Epoch 20: val_accuracy did not improve from 0.86063\n",
            "175/175 [==============================] - 34s 194ms/step - loss: 4.4759e-04 - accuracy: 1.0000 - val_loss: 1.4092 - val_accuracy: 0.8519 - lr: 2.0000e-04\n",
            "Epoch 21/100\n",
            "175/175 [==============================] - ETA: 0s - loss: 3.8324e-04 - accuracy: 1.0000\n",
            "Epoch 21: val_accuracy did not improve from 0.86063\n",
            "175/175 [==============================] - 30s 173ms/step - loss: 3.8324e-04 - accuracy: 1.0000 - val_loss: 1.4228 - val_accuracy: 0.8512 - lr: 2.0000e-04\n",
            "Epoch 22/100\n",
            "175/175 [==============================] - ETA: 0s - loss: 3.3762e-04 - accuracy: 1.0000\n",
            "Epoch 22: val_accuracy did not improve from 0.86063\n",
            "175/175 [==============================] - 34s 195ms/step - loss: 3.3762e-04 - accuracy: 1.0000 - val_loss: 1.4340 - val_accuracy: 0.8519 - lr: 2.0000e-04\n",
            "Epoch 23/100\n",
            "175/175 [==============================] - ETA: 0s - loss: 2.9653e-04 - accuracy: 1.0000\n",
            "Epoch 23: val_accuracy did not improve from 0.86063\n",
            "175/175 [==============================] - 30s 173ms/step - loss: 2.9653e-04 - accuracy: 1.0000 - val_loss: 1.4471 - val_accuracy: 0.8506 - lr: 2.0000e-04\n",
            "Epoch 24/100\n",
            "175/175 [==============================] - ETA: 0s - loss: 2.6214e-04 - accuracy: 1.0000\n",
            "Epoch 24: val_accuracy did not improve from 0.86063\n",
            "175/175 [==============================] - 30s 174ms/step - loss: 2.6214e-04 - accuracy: 1.0000 - val_loss: 1.4575 - val_accuracy: 0.8512 - lr: 2.0000e-04\n",
            "Epoch 24: early stopping\n"
          ]
        }
      ],
      "source": [
        "m5=vgg_model.fit(train_data,steps_per_epoch=len(train_data),epochs=100,verbose=1,validation_data=(val_data),validation_steps=len(val_data),callbacks=cb5)"
      ]
    },
    {
      "attachments": {},
      "cell_type": "markdown",
      "metadata": {
        "id": "16YS_aCY9hJn"
      },
      "source": [
        "##Graphical implementation of VGG16"
      ]
    },
    {
      "cell_type": "code",
      "execution_count": null,
      "metadata": {
        "colab": {
          "base_uri": "https://localhost:8080/",
          "height": 472
        },
        "id": "bwdJu5xx7TXo",
        "outputId": "bfb419c9-1afd-49ab-920c-e08ae52ba86a"
      },
      "outputs": [
        {
          "data": {
            "image/png": "[encoded data removed]",
            "text/plain": [
              "<Figure size 640x480 with 1 Axes>"
            ]
          },
          "metadata": {},
          "output_type": "display_data"
        }
      ],
      "source": [
        "plt.plot(m5.history['accuracy'])\n",
        "plt.plot(m5.history['val_accuracy'])\n",
        "plt.ylabel('accuracy')\n",
        "plt.xlabel('epoch')\n",
        "plt.legend(['Train', 'Validation'], loc='upper left')\n",
        "plt.title(\"VGG16 Model Train_Accuracy VS Val_Accuracy\")\n",
        "plt.show()"
      ]
    },
    {
      "cell_type": "code",
      "execution_count": null,
      "metadata": {
        "colab": {
          "base_uri": "https://localhost:8080/",
          "height": 472
        },
        "id": "7Wk5QU8N7cp_",
        "outputId": "6ea6b6d3-b468-40ce-e633-eaf3f1626a6d"
      },
      "outputs": [
        {
          "data": {
            "image/png": "[encoded data removed]",
            "text/plain": [
              "<Figure size 640x480 with 1 Axes>"
            ]
          },
          "metadata": {},
          "output_type": "display_data"
        }
      ],
      "source": [
        "plt.plot(m5.history['loss'])\n",
        "plt.plot(m5.history['val_loss'])\n",
        "plt.ylabel('loss')\n",
        "plt.xlabel('epoch')\n",
        "plt.legend(['Train', 'Validation'], loc='upper right')\n",
        "\n",
        "plt.title(\"VGG16 Model Train_Loss VS Val_Loss\")\n",
        "plt.show()"
      ]
    },
    {
      "attachments": {},
      "cell_type": "markdown",
      "metadata": {
        "id": "Vx_ZIM4zLuIE"
      },
      "source": [
        "##VGG16 Model Accuracy and Loss\n"
      ]
    },
    {
      "cell_type": "code",
      "execution_count": null,
      "metadata": {
        "id": "wVCL7bMA7mPp"
      },
      "outputs": [],
      "source": [
        "model5=load_model('/content/Best_model5.h5')"
      ]
    },
    {
      "cell_type": "code",
      "execution_count": null,
      "metadata": {
        "colab": {
          "base_uri": "https://localhost:8080/"
        },
        "id": "o5Bu_HUd7ucS",
        "outputId": "6aead0ad-d656-4ea3-977d-b92a9851967b"
      },
      "outputs": [
        {
          "name": "stdout",
          "output_type": "stream",
          "text": [
            "25/25 [==============================] - 4s 131ms/step - loss: 0.4956 - accuracy: 0.8612\n",
            "The accuracy of VGG16 model is 86.12499833106995 % and loss is 0.4956279695034027\n"
          ]
        }
      ],
      "source": [
        "loss_vgg,acc_vgg=model5.evaluate(x_test,y_test)\n",
        "print(f\"The accuracy of VGG16 model is {acc_vgg*100} % and loss is {loss_vgg}\")"
      ]
    },
    {
      "attachments": {},
      "cell_type": "markdown",
      "metadata": {
        "id": "15X9FgeOcDPW"
      },
      "source": [
        "##VGG16 Model Percision, Recall, F1 Score\n"
      ]
    },
    {
      "cell_type": "code",
      "execution_count": null,
      "metadata": {
        "colab": {
          "base_uri": "https://localhost:8080/"
        },
        "id": "LUa7fFKOvW2K",
        "outputId": "1c4a3074-6061-4a82-d441-bf30870c6fa7"
      },
      "outputs": [
        {
          "name": "stdout",
          "output_type": "stream",
          "text": [
            "25/25 [==============================] - 7s 290ms/step\n"
          ]
        }
      ],
      "source": [
        "y_pred = model5.predict(x_test)\n",
        "y_pred_classes = np.argmax(y_pred, axis=1)\n",
        "y_true_classes = np.argmax(y_test, axis=1)\n",
        "\n",
        "# Calculating the confusion matrix\n",
        "confusion_mtx = confusion_matrix(y_true_classes, y_pred_classes)"
      ]
    },
    {
      "cell_type": "code",
      "execution_count": null,
      "metadata": {
        "colab": {
          "base_uri": "https://localhost:8080/"
        },
        "id": "IfuYOYdavXyC",
        "outputId": "5db3014d-c28e-470d-bbd2-ee87f0a35ce8"
      },
      "outputs": [
        {
          "name": "stdout",
          "output_type": "stream",
          "text": [
            "Classification Report:\n",
            "              precision    recall  f1-score   support\n",
            "\n",
            "           0       1.00      0.98      0.99       200\n",
            "           1       0.96      0.97      0.97       200\n",
            "           2       0.77      0.70      0.73       200\n",
            "           3       0.72      0.79      0.75       200\n",
            "\n",
            "    accuracy                           0.86       800\n",
            "   macro avg       0.86      0.86      0.86       800\n",
            "weighted avg       0.86      0.86      0.86       800\n",
            "\n"
          ]
        }
      ],
      "source": [
        "report = classification_report(y_true_classes, y_pred_classes)\n",
        "print(\"Classification Report:\")\n",
        "print(report)"
      ]
    },
    {
      "cell_type": "code",
      "execution_count": null,
      "metadata": {
        "colab": {
          "base_uri": "https://localhost:8080/",
          "height": 543
        },
        "id": "1OoJByDVvagS",
        "outputId": "ea8df44b-b857-4876-c6b5-ee66dbfb8f12"
      },
      "outputs": [
        {
          "name": "stdout",
          "output_type": "stream",
          "text": [
            "Normalized confusion matrix\n"
          ]
        },
        {
          "data": {
            "image/png": "[encoded data removed]",
            "text/plain": [
              "<Figure size 500x500 with 1 Axes>"
            ]
          },
          "metadata": {},
          "output_type": "display_data"
        }
      ],
      "source": [
        "import itertools\n",
        "from sklearn.metrics import classification_report,confusion_matrix, accuracy_score\n",
        "def plot_confusion_matrix(cm,classes,normalize=False,title='Confusion matrix', cmap=plt.cm.Blues):\n",
        "  if normalize:\n",
        "    cm=cm.astype('float')/cm.sum(axis=1)[:,np.newaxis]\n",
        "    print(\"Normalized confusion matrix\")\n",
        "  else:\n",
        "    print(\"Confusion matrix without normalization\")\n",
        "  \n",
        "  plt.imshow(cm,interpolation='nearest',cmap=cmap)\n",
        "  plt.title(title,weight='bold')\n",
        "  tick_marks=np.arange(len(classes))\n",
        "  plt.xticks(tick_marks,classes,rotation=90)\n",
        "  plt.yticks(tick_marks,classes)\n",
        "\n",
        "\n",
        "  fmt='.2f' if normalize else 'd'\n",
        "  thresh=cm.max()/2.\n",
        "  for i,j in itertools.product(range(cm.shape[0]),range(cm.shape[1])):\n",
        "    plt.text(j,i,format(cm[i,j],fmt),\n",
        "             horizontalalignment='center',weight='bold',\n",
        "             color='white' if cm[i,j]> thresh else 'black')\n",
        "  plt.tight_layout()\n",
        "  plt.ylabel(\"True label\", weight='bold')\n",
        "  plt.xlabel(\"Predicted label\",weight=\"bold\")\n",
        "\n",
        "#compute confusion matrix\n",
        "cnf_matrix=confusion_matrix(y_true_classes, y_pred_classes)\n",
        "np.set_printoptions(precision=2)\n",
        "\n",
        "#Plot non-normalized confusion matrix\n",
        "plt.figure(figsize=(5,5))\n",
        "plot_confusion_matrix(cnf_matrix, classes=['COVID-19','Normal','Pneumonia-viral','Pneumonia-Bacterial'],normalize=True,title=\"Normalized confusion matrix\")\n",
        "plt.show()"
      ]
    }
  ],
  "metadata": {
    "accelerator": "GPU",
    "colab": {
      "gpuType": "T4",
      "provenance": []
    },
    "kernelspec": {
      "display_name": "Python 3",
      "name": "python3"
    },
    "language_info": {
      "name": "python"
    }
  },
  "nbformat": 4,
  "nbformat_minor": 0
}
